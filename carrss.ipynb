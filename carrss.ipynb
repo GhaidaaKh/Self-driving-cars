{
 "cells": [
  {
   "cell_type": "code",
   "execution_count": 40,
   "metadata": {},
   "outputs": [],
   "source": [
    "import numpy as np\n",
    "import pandas as pd\n",
    "import tensorflow as tf \n",
    "from sklearn.model_selection import train_test_split\n",
    "from tensorflow.keras.models import Model \n",
    "from tensorflow.keras.layers import Conv2D, concatenate, Activation, MaxPooling2D, UpSampling2D, Input, Dropout\n",
    "from tensorflow.keras.optimizers import Adam\n",
    "from tensorflow.keras.preprocessing.image import load_img, img_to_array\n",
    "from tensorflow.keras.callbacks import EarlyStopping, ReduceLROnPlateau\n",
    "import cv2\n",
    "import matplotlib.pyplot as plt\n",
    "import random\n",
    "import os"
   ]
  },
  {
   "cell_type": "code",
   "execution_count": 41,
   "metadata": {},
   "outputs": [],
   "source": [
    "image_path = '/Users/nouf/Desktop/archive/dataA/dataA/CameraRGB/'\n",
    "mask_path = '/Users/nouf/Desktop/archive/dataA/dataA/CameraSeg/'\n",
    "image_list = os.listdir(image_path)\n",
    "mask_list = os.listdir(mask_path)\n",
    "image_list = [image_path+i for i in image_list]\n",
    "mask_list = [mask_path+i for i in mask_list]"
   ]
  },
  {
   "cell_type": "code",
   "execution_count": 42,
   "metadata": {},
   "outputs": [],
   "source": [
    "X = image_list\n",
    "Y = mask_list"
   ]
  },
  {
   "cell_type": "code",
   "execution_count": 43,
   "metadata": {},
   "outputs": [],
   "source": [
    "X_train, X_val, Y_train, Y_val = train_test_split(X, Y, test_size = 0.2)\n",
    "X_val, X_test, Y_val, Y_test = train_test_split(X_val, Y_val, test_size = 0.2)"
   ]
  },
  {
   "cell_type": "code",
   "execution_count": 44,
   "metadata": {},
   "outputs": [],
   "source": [
    "def read_imageMask(image_path, mask_path):\n",
    "    \n",
    "    img = tf.io.read_file(image_path)\n",
    "    img = tf.image.decode_png(img, channels=3)\n",
    "    img = tf.image.convert_image_dtype(img, tf.float32)\n",
    "    img = tf.image.resize(img, (256, 256), method='nearest')\n",
    "    \n",
    "    mask = tf.io.read_file(mask_path)\n",
    "    mask = tf.image.decode_png(mask, channels=3)\n",
    "    mask = tf.math.reduce_max(mask, axis=-1, keepdims=True)\n",
    "    mask = tf.image.resize(mask, (256, 256), method='nearest')\n",
    "    \n",
    "    return img, mask"
   ]
  },
  {
   "cell_type": "code",
   "execution_count": 45,
   "metadata": {},
   "outputs": [],
   "source": [
    "def data_generator(image_paths, mask_paths, batch_size):\n",
    "    images = tf.constant(image_paths)\n",
    "    masks = tf.constant(mask_paths)\n",
    "    dataset = tf.data.Dataset.from_tensor_slices((images, masks))\n",
    "    dataset = dataset.map(read_imageMask, num_parallel_calls=tf.data.experimental.AUTOTUNE)\n",
    "    dataset = dataset.cache().shuffle(500).batch(batch_size)\n",
    "    \n",
    "    return dataset"
   ]
  },
  {
   "cell_type": "code",
   "execution_count": 46,
   "metadata": {},
   "outputs": [],
   "source": [
    "train_generator = data_generator(X_train, Y_train, 32)\n",
    "val_generator = data_generator(X_val, Y_val, 32)\n",
    "test_generator = data_generator(X_test, Y_test, 32)"
   ]
  },
  {
   "cell_type": "code",
   "execution_count": 47,
   "metadata": {},
   "outputs": [
    {
     "data": {
      "text/plain": [
       "<BatchDataset element_spec=(TensorSpec(shape=(None, 256, 256, 3), dtype=tf.float32, name=None), TensorSpec(shape=(None, 256, 256, 1), dtype=tf.uint8, name=None))>"
      ]
     },
     "execution_count": 47,
     "metadata": {},
     "output_type": "execute_result"
    }
   ],
   "source": [
    "train_generator"
   ]
  },
  {
   "cell_type": "code",
   "execution_count": 84,
   "metadata": {},
   "outputs": [],
   "source": [
    " def mean_iou(y_true, y_pred):\n",
    "        y_pred = tf.round(tf.cast(y_pred, tf.int32))\n",
    "        intersect = tf.reduce_sum(tf.cast(y_true, tf.float32) * tf.cast(y_pred, tf.float32), axis=[1])\n",
    "        union = tf.reduce_sum(tf.cast(y_true, tf.float32),axis=[1]) + tf.reduce_sum(tf.cast(y_pred, tf.float32),axis=[1])\n",
    "        smooth = tf.ones(tf.shape(intersect))\n",
    "        return tf.reduce_mean((intersect + smooth) / (union - intersect + smooth))\n",
    "    \n",
    "    "
   ]
  },
  {
   "cell_type": "code",
   "execution_count": 75,
   "metadata": {},
   "outputs": [],
   "source": [
    "def unet(num_classes = 13, image_shape = (256, 256, 3)):\n",
    "    # Input\n",
    "    inputs = Input(image_shape)\n",
    "    # Encoder Path\n",
    "    conv1 = Conv2D(64, 3, activation='relu', kernel_initializer = 'he_normal', padding='same')(inputs)\n",
    "    conv1 = Conv2D(64, 3, activation='relu', kernel_initializer = 'he_normal', padding='same')(conv1)\n",
    "    pool1 = MaxPooling2D((2,2))(conv1)\n",
    "    \n",
    "    conv2 = Conv2D(128, 3, activation='relu', kernel_initializer = 'he_normal', padding='same')(pool1)\n",
    "    conv2 = Conv2D(128, 3, activation='relu', kernel_initializer = 'he_normal', padding='same')(conv2)\n",
    "    pool2 = MaxPooling2D((2,2))(conv2)\n",
    "\n",
    "    conv3 = Conv2D(256, 3, activation='relu', kernel_initializer = 'he_normal', padding='same')(pool2)\n",
    "    conv3 = Conv2D(256, 3, activation='relu', kernel_initializer = 'he_normal', padding='same')(conv3)\n",
    "    pool3 = MaxPooling2D((2,2))(conv3)\n",
    "    \n",
    "    conv4 = Conv2D(512, 3, activation='relu', kernel_initializer = 'he_normal', padding='same')(pool3)\n",
    "    conv4 = Conv2D(512, 3, activation='relu', kernel_initializer = 'he_normal', padding='same')(conv4)\n",
    "    drop4 = Dropout(0.5)(conv4)\n",
    "    pool4 = MaxPooling2D((2,2))(drop4)\n",
    "    \n",
    "    conv5 = Conv2D(1024, 3, activation='relu', kernel_initializer = 'he_normal', padding='same')(pool4)\n",
    "    conv5 = Conv2D(1024, 3, activation='relu', kernel_initializer = 'he_normal', padding='same')(conv5)\n",
    "    drop5 = Dropout(0.5)(conv5)\n",
    "    \n",
    "    # Decoder Path\n",
    "    up6 = Conv2D(512, 2, activation='relu', kernel_initializer='he_normal', padding='same')(UpSampling2D(size=(2,2))(drop5))\n",
    "    merge6 = concatenate([up6, conv4], axis = 3)\n",
    "    conv6 = Conv2D(512, 3, activation='relu', kernel_initializer='he_normal', padding='same')(merge6)\n",
    "    conv6 = Conv2D(512, 3, activation='relu', kernel_initializer='he_normal', padding='same')(conv6)\n",
    "    \n",
    "    up7 = Conv2D(256, 2, activation='relu', kernel_initializer='he_normal', padding='same')(UpSampling2D(size=(2,2))(conv6))\n",
    "    merge7 = concatenate([up7, conv3], axis = 3)\n",
    "    conv7 = Conv2D(256, 3, activation='relu', kernel_initializer='he_normal', padding='same')(merge7)\n",
    "    conv7 = Conv2D(256, 3, activation='relu', kernel_initializer='he_normal', padding='same')(conv7)\n",
    "    \n",
    "    up8 = Conv2D(128, 2, activation='relu', kernel_initializer='he_normal', padding='same')(UpSampling2D(size=(2,2))(conv7))\n",
    "    merge8 = concatenate([up8, conv2], axis = 3)\n",
    "    conv8 = Conv2D(128, 3, activation='relu', kernel_initializer='he_normal', padding='same')(merge8)\n",
    "    conv8 = Conv2D(128, 3, activation='relu', kernel_initializer='he_normal', padding='same')(conv8)\n",
    "    \n",
    "    up9 = Conv2D(64, 2, activation='relu', kernel_initializer='he_normal', padding='same')(UpSampling2D(size=(2,2))(conv8))\n",
    "    merge9 = concatenate([up9, conv1], axis = 3)\n",
    "    conv9 = Conv2D(64, 3, activation='relu', kernel_initializer='he_normal', padding='same')(merge9)\n",
    "    conv9 = Conv2D(64, 3, activation='relu', kernel_initializer='he_normal', padding='same')(conv9)\n",
    "    \n",
    "    conv10 = Conv2D(num_classes, (1, 1), padding='same', activation='softmax')(conv9)\n",
    "    \n",
    "    model = Model(inputs, conv10)\n",
    "    \n",
    "    return model"
   ]
  },
  {
   "cell_type": "code",
   "execution_count": 76,
   "metadata": {},
   "outputs": [
    {
     "name": "stdout",
     "output_type": "stream",
     "text": [
      "Model: \"model_9\"\n",
      "__________________________________________________________________________________________________\n",
      " Layer (type)                   Output Shape         Param #     Connected to                     \n",
      "==================================================================================================\n",
      " input_13 (InputLayer)          [(None, 256, 256, 3  0           []                               \n",
      "                                )]                                                                \n",
      "                                                                                                  \n",
      " conv2d_238 (Conv2D)            (None, 256, 256, 64  1792        ['input_13[0][0]']               \n",
      "                                )                                                                 \n",
      "                                                                                                  \n",
      " conv2d_239 (Conv2D)            (None, 256, 256, 64  36928       ['conv2d_238[0][0]']             \n",
      "                                )                                                                 \n",
      "                                                                                                  \n",
      " max_pooling2d_48 (MaxPooling2D  (None, 128, 128, 64  0          ['conv2d_239[0][0]']             \n",
      " )                              )                                                                 \n",
      "                                                                                                  \n",
      " conv2d_240 (Conv2D)            (None, 128, 128, 12  73856       ['max_pooling2d_48[0][0]']       \n",
      "                                8)                                                                \n",
      "                                                                                                  \n",
      " conv2d_241 (Conv2D)            (None, 128, 128, 12  147584      ['conv2d_240[0][0]']             \n",
      "                                8)                                                                \n",
      "                                                                                                  \n",
      " max_pooling2d_49 (MaxPooling2D  (None, 64, 64, 128)  0          ['conv2d_241[0][0]']             \n",
      " )                                                                                                \n",
      "                                                                                                  \n",
      " conv2d_242 (Conv2D)            (None, 64, 64, 256)  295168      ['max_pooling2d_49[0][0]']       \n",
      "                                                                                                  \n",
      " conv2d_243 (Conv2D)            (None, 64, 64, 256)  590080      ['conv2d_242[0][0]']             \n",
      "                                                                                                  \n",
      " max_pooling2d_50 (MaxPooling2D  (None, 32, 32, 256)  0          ['conv2d_243[0][0]']             \n",
      " )                                                                                                \n",
      "                                                                                                  \n",
      " conv2d_244 (Conv2D)            (None, 32, 32, 512)  1180160     ['max_pooling2d_50[0][0]']       \n",
      "                                                                                                  \n",
      " conv2d_245 (Conv2D)            (None, 32, 32, 512)  2359808     ['conv2d_244[0][0]']             \n",
      "                                                                                                  \n",
      " dropout_24 (Dropout)           (None, 32, 32, 512)  0           ['conv2d_245[0][0]']             \n",
      "                                                                                                  \n",
      " max_pooling2d_51 (MaxPooling2D  (None, 16, 16, 512)  0          ['dropout_24[0][0]']             \n",
      " )                                                                                                \n",
      "                                                                                                  \n",
      " conv2d_246 (Conv2D)            (None, 16, 16, 1024  4719616     ['max_pooling2d_51[0][0]']       \n",
      "                                )                                                                 \n",
      "                                                                                                  \n",
      " conv2d_247 (Conv2D)            (None, 16, 16, 1024  9438208     ['conv2d_246[0][0]']             \n",
      "                                )                                                                 \n",
      "                                                                                                  \n",
      " dropout_25 (Dropout)           (None, 16, 16, 1024  0           ['conv2d_247[0][0]']             \n",
      "                                )                                                                 \n",
      "                                                                                                  \n",
      " up_sampling2d_36 (UpSampling2D  (None, 32, 32, 1024  0          ['dropout_25[0][0]']             \n",
      " )                              )                                                                 \n",
      "                                                                                                  \n",
      " conv2d_248 (Conv2D)            (None, 32, 32, 512)  2097664     ['up_sampling2d_36[0][0]']       \n",
      "                                                                                                  \n",
      " concatenate_36 (Concatenate)   (None, 32, 32, 1024  0           ['conv2d_248[0][0]',             \n",
      "                                )                                 'conv2d_245[0][0]']             \n",
      "                                                                                                  \n",
      " conv2d_249 (Conv2D)            (None, 32, 32, 512)  4719104     ['concatenate_36[0][0]']         \n",
      "                                                                                                  \n",
      " conv2d_250 (Conv2D)            (None, 32, 32, 512)  2359808     ['conv2d_249[0][0]']             \n",
      "                                                                                                  \n",
      " up_sampling2d_37 (UpSampling2D  (None, 64, 64, 512)  0          ['conv2d_250[0][0]']             \n",
      " )                                                                                                \n",
      "                                                                                                  \n",
      " conv2d_251 (Conv2D)            (None, 64, 64, 256)  524544      ['up_sampling2d_37[0][0]']       \n",
      "                                                                                                  \n",
      " concatenate_37 (Concatenate)   (None, 64, 64, 512)  0           ['conv2d_251[0][0]',             \n",
      "                                                                  'conv2d_243[0][0]']             \n",
      "                                                                                                  \n",
      " conv2d_252 (Conv2D)            (None, 64, 64, 256)  1179904     ['concatenate_37[0][0]']         \n",
      "                                                                                                  \n",
      " conv2d_253 (Conv2D)            (None, 64, 64, 256)  590080      ['conv2d_252[0][0]']             \n",
      "                                                                                                  \n",
      " up_sampling2d_38 (UpSampling2D  (None, 128, 128, 25  0          ['conv2d_253[0][0]']             \n",
      " )                              6)                                                                \n",
      "                                                                                                  \n",
      " conv2d_254 (Conv2D)            (None, 128, 128, 12  131200      ['up_sampling2d_38[0][0]']       \n",
      "                                8)                                                                \n",
      "                                                                                                  \n",
      " concatenate_38 (Concatenate)   (None, 128, 128, 25  0           ['conv2d_254[0][0]',             \n",
      "                                6)                                'conv2d_241[0][0]']             \n",
      "                                                                                                  \n",
      " conv2d_255 (Conv2D)            (None, 128, 128, 12  295040      ['concatenate_38[0][0]']         \n"
     ]
    },
    {
     "name": "stdout",
     "output_type": "stream",
     "text": [
      "                                8)                                                                \n",
      "                                                                                                  \n",
      " conv2d_256 (Conv2D)            (None, 128, 128, 12  147584      ['conv2d_255[0][0]']             \n",
      "                                8)                                                                \n",
      "                                                                                                  \n",
      " up_sampling2d_39 (UpSampling2D  (None, 256, 256, 12  0          ['conv2d_256[0][0]']             \n",
      " )                              8)                                                                \n",
      "                                                                                                  \n",
      " conv2d_257 (Conv2D)            (None, 256, 256, 64  32832       ['up_sampling2d_39[0][0]']       \n",
      "                                )                                                                 \n",
      "                                                                                                  \n",
      " concatenate_39 (Concatenate)   (None, 256, 256, 12  0           ['conv2d_257[0][0]',             \n",
      "                                8)                                'conv2d_239[0][0]']             \n",
      "                                                                                                  \n",
      " conv2d_258 (Conv2D)            (None, 256, 256, 64  73792       ['concatenate_39[0][0]']         \n",
      "                                )                                                                 \n",
      "                                                                                                  \n",
      " conv2d_259 (Conv2D)            (None, 256, 256, 64  36928       ['conv2d_258[0][0]']             \n",
      "                                )                                                                 \n",
      "                                                                                                  \n",
      " conv2d_260 (Conv2D)            (None, 256, 256, 13  845         ['conv2d_259[0][0]']             \n",
      "                                )                                                                 \n",
      "                                                                                                  \n",
      "==================================================================================================\n",
      "Total params: 31,032,525\n",
      "Trainable params: 31,032,525\n",
      "Non-trainable params: 0\n",
      "__________________________________________________________________________________________________\n"
     ]
    }
   ],
   "source": [
    "model = unet()\n",
    "model.summary()"
   ]
  },
  {
   "cell_type": "code",
   "execution_count": 87,
   "metadata": {},
   "outputs": [],
   "source": [
    "model.compile(optimizer='adam', loss='mse', metrics=[mean_iou])\n",
    "\n",
    "\n",
    "earlystopping = EarlyStopping(monitor='val_loss', patience= 5)"
   ]
  },
  {
   "cell_type": "code",
   "execution_count": 88,
   "metadata": {},
   "outputs": [
    {
     "name": "stdout",
     "output_type": "stream",
     "text": [
      "Epoch 1/25\n",
      "25/25 [==============================] - 1640s 66s/step - loss: 42.1504 - mean_iou: 7.9975e-04 - val_loss: 42.0058 - val_mean_iou: 8.0305e-04\n",
      "Epoch 2/25\n",
      "25/25 [==============================] - 1623s 65s/step - loss: 42.1504 - mean_iou: 7.9975e-04 - val_loss: 42.0058 - val_mean_iou: 8.0305e-04\n",
      "Epoch 3/25\n",
      "25/25 [==============================] - 1638s 66s/step - loss: 42.1504 - mean_iou: 7.9975e-04 - val_loss: 42.0058 - val_mean_iou: 8.0305e-04\n",
      "Epoch 4/25\n",
      "25/25 [==============================] - 1616s 65s/step - loss: 42.1504 - mean_iou: 7.9975e-04 - val_loss: 42.0058 - val_mean_iou: 8.0305e-04\n",
      "Epoch 5/25\n",
      "25/25 [==============================] - 1616s 65s/step - loss: 42.1504 - mean_iou: 7.9975e-04 - val_loss: 42.0058 - val_mean_iou: 8.0305e-04\n",
      "Epoch 6/25\n",
      "25/25 [==============================] - 1651s 66s/step - loss: 42.1504 - mean_iou: 7.9975e-04 - val_loss: 42.0058 - val_mean_iou: 8.0305e-04\n"
     ]
    }
   ],
   "source": [
    "history = model.fit(train_generator, validation_data=val_generator,epochs=25,\n",
    "                    verbose = 1, batch_size=16,\n",
    "                    callbacks=[earlystopping])"
   ]
  },
  {
   "cell_type": "code",
   "execution_count": null,
   "metadata": {},
   "outputs": [],
   "source": []
  }
 ],
 "metadata": {
  "kernelspec": {
   "display_name": "Python 3",
   "language": "python",
   "name": "python3"
  },
  "language_info": {
   "codemirror_mode": {
    "name": "ipython",
    "version": 3
   },
   "file_extension": ".py",
   "mimetype": "text/x-python",
   "name": "python",
   "nbconvert_exporter": "python",
   "pygments_lexer": "ipython3",
   "version": "3.8.5"
  }
 },
 "nbformat": 4,
 "nbformat_minor": 4
}
